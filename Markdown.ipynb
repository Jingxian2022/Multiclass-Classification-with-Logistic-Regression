{
 "cells": [
  {
   "cell_type": "code",
   "execution_count": null,
   "id": "7564d99a-8aff-424f-9e54-6b9018fec7bb",
   "metadata": {},
   "outputs": [],
   "source": []
  },
  {
   "cell_type": "markdown",
   "id": "ef43d70c-38e7-47b7-a3ed-08c59dfa1103",
   "metadata": {},
   "source": [
    "## **Overview of Multiclass Classification with Logistic Regression**\n",
    "\n",
    "### Algorithm Overview\n",
    "\n",
    "\n",
    "### Representation\n",
    "\n",
    "\n",
    "### Loss\n",
    "\n",
    "\n",
    "### Optimizer"
   ]
  },
  {
   "cell_type": "code",
   "execution_count": null,
   "id": "4b81faf1-f908-4641-acb6-fe2588587469",
   "metadata": {},
   "outputs": [],
   "source": []
  }
 ],
 "metadata": {
  "kernelspec": {
   "display_name": "Python 3 (ipykernel)",
   "language": "python",
   "name": "python3"
  },
  "language_info": {
   "codemirror_mode": {
    "name": "ipython",
    "version": 3
   },
   "file_extension": ".py",
   "mimetype": "text/x-python",
   "name": "python",
   "nbconvert_exporter": "python",
   "pygments_lexer": "ipython3",
   "version": "3.12.5"
  }
 },
 "nbformat": 4,
 "nbformat_minor": 5
}
